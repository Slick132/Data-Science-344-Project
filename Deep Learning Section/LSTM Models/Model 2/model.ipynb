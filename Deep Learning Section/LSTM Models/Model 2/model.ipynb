{
 "cells": [
  {
   "cell_type": "code",
   "execution_count": 2,
   "metadata": {},
   "outputs": [],
   "source": [
    "import pandas as pd\n",
    "import numpy as np\n",
    "import tensorflow as tf\n",
    "import matplotlib.pyplot as plt\n",
    "from sklearn.preprocessing import LabelEncoder\n",
    "from sklearn.model_selection import train_test_split\n",
    "from tensorflow.keras.preprocessing.text import Tokenizer\n",
    "from tensorflow.keras.preprocessing.sequence import pad_sequences\n",
    "from tensorflow.keras.models import Sequential\n",
    "from tensorflow.keras.regularizers import l2\n",
    "from tensorflow.keras.callbacks import EarlyStopping, ModelCheckpoint, CSVLogger\n",
    "from tensorflow.keras.optimizers import SGD\n",
    "from tensorflow.keras.utils import to_categorical, plot_model\n",
    "from tensorflow.keras.layers import Embedding, Dropout, LSTM, Dense\n"
   ]
  },
  {
   "cell_type": "code",
   "execution_count": null,
   "metadata": {},
   "outputs": [],
   "source": [
    "# Load the data\n",
    "data_path = \"/home/24694266/DataScience344/Project/RNNModels/Filterd.csv\"\n",
    "data = pd.read_csv(data_path)\n",
    "\n",
    "# 1. Randomly sample 50,000 observations from the data\n",
    "data_sample = data.sample(n=50000, random_state=42)\n",
    "\n",
    "# 2. Apply the preprocessing steps to this subset\n",
    "tokenizer = Tokenizer(oov_token='<OOV>', num_words=1000)  # Limiting to 1000 words due to max_words\n",
    "tokenizer.fit_on_texts(data_sample['Lyrics_Processed'])\n",
    "sequences = tokenizer.texts_to_sequences(data_sample['Lyrics_Processed'])\n",
    "padded_sequences = pad_sequences(sequences, maxlen=30, truncating='post', padding='post')  # maxlen=30 due to the model\n",
    "\n",
    "label_encoder = LabelEncoder()\n",
    "labels_encoded = label_encoder.fit_transform(data_sample['genre'])\n",
    "labels_one_hot = to_categorical(labels_encoded, num_classes=6)\n",
    "labels = labels_one_hot\n",
    "\n",
    "X_train, X_test, y_train, y_test = train_test_split(padded_sequences, labels, test_size=0.2, random_state=42)\n"
   ]
  },
  {
   "cell_type": "code",
   "execution_count": null,
   "metadata": {},
   "outputs": [],
   "source": [
    "max_words = 1000\n",
    "embedding_dim = 16\n",
    "model = Sequential()\n",
    "    \n",
    "# Embedding layer\n",
    "model.add(Embedding(input_dim=max_words, output_dim=embedding_dim, input_length=30))\n",
    "model.add(Dropout(0.5))\n",
    "\n",
    "# First LSTM layer with dropout and kernel regularization\n",
    "model.add(LSTM(64, return_sequences=True, dropout=0.4, recurrent_dropout=0.4, kernel_regularizer=l2(0.01)))\n",
    "model.add(Dropout(0.4))\n",
    "\n",
    "\n",
    "# Second LSTM layer with dropout and kernel regularization\n",
    "model.add(LSTM(64, dropout=0.4, recurrent_dropout=0.4, kernel_regularizer=l2(0.01)))\n",
    "model.add(Dropout(0.4))\n",
    "\n",
    "# Dense layer with kernel regularization\n",
    "model.add(Dense(32, activation='tanh', kernel_regularizer=l2(0.01)))\n",
    "model.add(Dropout(0.5))\n",
    "\n",
    "# Output layer\n",
    "model.add(Dense(6, activation='softmax'))\n",
    "\n",
    "# Compile the model\n",
    "model.compile(optimizer='adam', loss='categorical_crossentropy', metrics=['accuracy'])\n",
    "model.summary()\n",
    "history = model.fit(X_train, y_train, epochs=1200, batch_size=64, validation_data=(X_test, y_test), verbose=1)\n"
   ]
  },
  {
   "cell_type": "code",
   "execution_count": null,
   "metadata": {},
   "outputs": [],
   "source": [
    "# Plot the training history\n",
    "plt.figure(figsize=(12,5))\n",
    "\n",
    "plt.subplot(1,2,1)\n",
    "plt.plot(history.history['accuracy'], label='Train Accuracy')\n",
    "plt.plot(history.history['val_accuracy'], label='Validation Accuracy')\n",
    "plt.legend()\n",
    "plt.title('Accuracy Over Epochs')\n",
    "\n",
    "plt.subplot(1,2,2)\n",
    "plt.plot(history.history['loss'], label='Train Loss')\n",
    "plt.plot(history.history['val_loss'], label='Validation Loss')\n",
    "plt.legend()\n",
    "plt.title('Loss Over Epochs')\n",
    "\n",
    "plt.tight_layout()\n",
    "plt.show()"
   ]
  }
 ],
 "metadata": {
  "kernelspec": {
   "display_name": "Python 3",
   "language": "python",
   "name": "python3"
  },
  "language_info": {
   "codemirror_mode": {
    "name": "ipython",
    "version": 3
   },
   "file_extension": ".py",
   "mimetype": "text/x-python",
   "name": "python",
   "nbconvert_exporter": "python",
   "pygments_lexer": "ipython3",
   "version": "3.11.4"
  }
 },
 "nbformat": 4,
 "nbformat_minor": 2
}
